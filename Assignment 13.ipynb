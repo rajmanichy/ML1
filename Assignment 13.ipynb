{
 "cells": [
  {
   "cell_type": "code",
   "execution_count": 29,
   "metadata": {},
   "outputs": [],
   "source": [
    "from sklearn import datasets\n",
    "import numpy as np\n",
    "from sklearn import metrics\n",
    "import pandas as pd\n",
    "from sklearn.svm import SVC"
   ]
  },
  {
   "cell_type": "markdown",
   "metadata": {},
   "source": [
    "## Question 1"
   ]
  },
  {
   "cell_type": "code",
   "execution_count": 56,
   "metadata": {},
   "outputs": [],
   "source": [
    "digit = datasets.load_digits()\n",
    "x = digit.data\n",
    "y = digit.target"
   ]
  },
  {
   "cell_type": "markdown",
   "metadata": {},
   "source": [
    "## Question 2"
   ]
  },
  {
   "cell_type": "code",
   "execution_count": 31,
   "metadata": {},
   "outputs": [
    {
     "data": {
      "text/plain": [
       "((1347L, 64L), (450L, 64L))"
      ]
     },
     "execution_count": 31,
     "metadata": {},
     "output_type": "execute_result"
    }
   ],
   "source": [
    "from sklearn.model_selection import train_test_split\n",
    "x_train,x_test,y_train,y_test = train_test_split(x,y,test_size = 0.25)\n",
    "x_train.shape, x_test.shape"
   ]
  },
  {
   "cell_type": "markdown",
   "metadata": {},
   "source": [
    "## Question 3 "
   ]
  },
  {
   "cell_type": "markdown",
   "metadata": {},
   "source": [
    "## (a)"
   ]
  },
  {
   "cell_type": "code",
   "execution_count": 32,
   "metadata": {},
   "outputs": [],
   "source": [
    "model = SVC(kernel='linear')"
   ]
  },
  {
   "cell_type": "code",
   "execution_count": 33,
   "metadata": {},
   "outputs": [
    {
     "data": {
      "text/plain": [
       "SVC(C=1.0, cache_size=200, class_weight=None, coef0=0.0,\n",
       "  decision_function_shape='ovr', degree=3, gamma='auto', kernel='linear',\n",
       "  max_iter=-1, probability=False, random_state=None, shrinking=True,\n",
       "  tol=0.001, verbose=False)"
      ]
     },
     "execution_count": 33,
     "metadata": {},
     "output_type": "execute_result"
    }
   ],
   "source": [
    "model.fit(x_train,y_train)"
   ]
  },
  {
   "cell_type": "code",
   "execution_count": 34,
   "metadata": {},
   "outputs": [],
   "source": [
    "pred = model.predict(x_test)"
   ]
  },
  {
   "cell_type": "code",
   "execution_count": 35,
   "metadata": {},
   "outputs": [
    {
     "data": {
      "text/plain": [
       "0.9688888888888889"
      ]
     },
     "execution_count": 35,
     "metadata": {},
     "output_type": "execute_result"
    }
   ],
   "source": [
    "metrics.accuracy_score(y_test,pred)"
   ]
  },
  {
   "cell_type": "code",
   "execution_count": 36,
   "metadata": {},
   "outputs": [
    {
     "name": "stdout",
     "output_type": "stream",
     "text": [
      "             precision    recall  f1-score   support\n",
      "\n",
      "          0       0.98      1.00      0.99        47\n",
      "          1       0.93      0.93      0.93        42\n",
      "          2       0.98      1.00      0.99        45\n",
      "          3       1.00      0.98      0.99        41\n",
      "          4       1.00      1.00      1.00        44\n",
      "          5       0.97      0.94      0.96        36\n",
      "          6       1.00      0.98      0.99        50\n",
      "          7       1.00      1.00      1.00        49\n",
      "          8       0.88      0.93      0.91        46\n",
      "          9       0.96      0.92      0.94        50\n",
      "\n",
      "avg / total       0.97      0.97      0.97       450\n",
      "\n"
     ]
    }
   ],
   "source": [
    "print(metrics.classification_report(y_test,pred))"
   ]
  },
  {
   "cell_type": "code",
   "execution_count": 37,
   "metadata": {},
   "outputs": [
    {
     "name": "stdout",
     "output_type": "stream",
     "text": [
      "[[47  0  0  0  0  0  0  0  0  0]\n",
      " [ 0 39  0  0  0  0  0  0  3  0]\n",
      " [ 0  0 45  0  0  0  0  0  0  0]\n",
      " [ 0  0  0 40  0  0  0  0  1  0]\n",
      " [ 0  0  0  0 44  0  0  0  0  0]\n",
      " [ 0  0  0  0  0 34  0  0  0  2]\n",
      " [ 1  0  0  0  0  0 49  0  0  0]\n",
      " [ 0  0  0  0  0  0  0 49  0  0]\n",
      " [ 0  2  1  0  0  0  0  0 43  0]\n",
      " [ 0  1  0  0  0  1  0  0  2 46]]\n"
     ]
    }
   ],
   "source": [
    "print(metrics.confusion_matrix(y_test,pred))"
   ]
  },
  {
   "cell_type": "markdown",
   "metadata": {},
   "source": [
    "## (b)"
   ]
  },
  {
   "cell_type": "code",
   "execution_count": 38,
   "metadata": {},
   "outputs": [],
   "source": [
    "model2 = SVC(kernel='poly')"
   ]
  },
  {
   "cell_type": "code",
   "execution_count": 39,
   "metadata": {},
   "outputs": [
    {
     "data": {
      "text/plain": [
       "SVC(C=1.0, cache_size=200, class_weight=None, coef0=0.0,\n",
       "  decision_function_shape='ovr', degree=3, gamma='auto', kernel='poly',\n",
       "  max_iter=-1, probability=False, random_state=None, shrinking=True,\n",
       "  tol=0.001, verbose=False)"
      ]
     },
     "execution_count": 39,
     "metadata": {},
     "output_type": "execute_result"
    }
   ],
   "source": [
    "model2.fit(x_train,y_train)"
   ]
  },
  {
   "cell_type": "code",
   "execution_count": 40,
   "metadata": {},
   "outputs": [],
   "source": [
    "pred2 = model2.predict(x_test)"
   ]
  },
  {
   "cell_type": "code",
   "execution_count": 41,
   "metadata": {},
   "outputs": [
    {
     "data": {
      "text/plain": [
       "0.98"
      ]
     },
     "execution_count": 41,
     "metadata": {},
     "output_type": "execute_result"
    }
   ],
   "source": [
    "metrics.accuracy_score(y_test,pred2)"
   ]
  },
  {
   "cell_type": "code",
   "execution_count": 42,
   "metadata": {},
   "outputs": [
    {
     "name": "stdout",
     "output_type": "stream",
     "text": [
      "             precision    recall  f1-score   support\n",
      "\n",
      "          0       1.00      1.00      1.00        47\n",
      "          1       0.98      1.00      0.99        42\n",
      "          2       1.00      1.00      1.00        45\n",
      "          3       1.00      0.98      0.99        41\n",
      "          4       1.00      1.00      1.00        44\n",
      "          5       0.97      0.94      0.96        36\n",
      "          6       1.00      0.98      0.99        50\n",
      "          7       1.00      1.00      1.00        49\n",
      "          8       0.92      0.96      0.94        46\n",
      "          9       0.94      0.94      0.94        50\n",
      "\n",
      "avg / total       0.98      0.98      0.98       450\n",
      "\n"
     ]
    }
   ],
   "source": [
    "print(metrics.classification_report(y_test,pred2))"
   ]
  },
  {
   "cell_type": "code",
   "execution_count": 43,
   "metadata": {},
   "outputs": [
    {
     "name": "stdout",
     "output_type": "stream",
     "text": [
      "[[47  0  0  0  0  0  0  0  0  0]\n",
      " [ 0 42  0  0  0  0  0  0  0  0]\n",
      " [ 0  0 45  0  0  0  0  0  0  0]\n",
      " [ 0  0  0 40  0  0  0  0  1  0]\n",
      " [ 0  0  0  0 44  0  0  0  0  0]\n",
      " [ 0  0  0  0  0 34  0  0  0  2]\n",
      " [ 0  0  0  0  0  0 49  0  1  0]\n",
      " [ 0  0  0  0  0  0  0 49  0  0]\n",
      " [ 0  1  0  0  0  0  0  0 44  1]\n",
      " [ 0  0  0  0  0  1  0  0  2 47]]\n"
     ]
    }
   ],
   "source": [
    "print(metrics.confusion_matrix(y_test,pred2))"
   ]
  },
  {
   "cell_type": "markdown",
   "metadata": {},
   "source": [
    "## (c)"
   ]
  },
  {
   "cell_type": "code",
   "execution_count": 44,
   "metadata": {},
   "outputs": [],
   "source": [
    "model3 = SVC(C=1.5)"
   ]
  },
  {
   "cell_type": "code",
   "execution_count": 45,
   "metadata": {},
   "outputs": [
    {
     "data": {
      "text/plain": [
       "SVC(C=1.5, cache_size=200, class_weight=None, coef0=0.0,\n",
       "  decision_function_shape='ovr', degree=3, gamma='auto', kernel='rbf',\n",
       "  max_iter=-1, probability=False, random_state=None, shrinking=True,\n",
       "  tol=0.001, verbose=False)"
      ]
     },
     "execution_count": 45,
     "metadata": {},
     "output_type": "execute_result"
    }
   ],
   "source": [
    "model3.fit(x_train,y_train)"
   ]
  },
  {
   "cell_type": "code",
   "execution_count": 46,
   "metadata": {},
   "outputs": [],
   "source": [
    "pred3 = model3.predict(x_test)"
   ]
  },
  {
   "cell_type": "code",
   "execution_count": 47,
   "metadata": {},
   "outputs": [
    {
     "data": {
      "text/plain": [
       "0.4222222222222222"
      ]
     },
     "execution_count": 47,
     "metadata": {},
     "output_type": "execute_result"
    }
   ],
   "source": [
    "metrics.accuracy_score(y_test,pred3)"
   ]
  },
  {
   "cell_type": "code",
   "execution_count": 48,
   "metadata": {},
   "outputs": [
    {
     "name": "stdout",
     "output_type": "stream",
     "text": [
      "             precision    recall  f1-score   support\n",
      "\n",
      "          0       1.00      0.45      0.62        47\n",
      "          1       1.00      0.55      0.71        42\n",
      "          2       1.00      0.24      0.39        45\n",
      "          3       1.00      0.59      0.74        41\n",
      "          4       1.00      0.57      0.72        44\n",
      "          5       0.12      1.00      0.22        36\n",
      "          6       1.00      0.54      0.70        50\n",
      "          7       1.00      0.20      0.34        49\n",
      "          8       1.00      0.02      0.04        46\n",
      "          9       1.00      0.24      0.39        50\n",
      "\n",
      "avg / total       0.93      0.42      0.49       450\n",
      "\n"
     ]
    }
   ],
   "source": [
    "print(metrics.classification_report(y_test,pred3))"
   ]
  },
  {
   "cell_type": "code",
   "execution_count": 49,
   "metadata": {},
   "outputs": [
    {
     "name": "stdout",
     "output_type": "stream",
     "text": [
      "[[21  0  0  0  0 26  0  0  0  0]\n",
      " [ 0 23  0  0  0 19  0  0  0  0]\n",
      " [ 0  0 11  0  0 34  0  0  0  0]\n",
      " [ 0  0  0 24  0 17  0  0  0  0]\n",
      " [ 0  0  0  0 25 19  0  0  0  0]\n",
      " [ 0  0  0  0  0 36  0  0  0  0]\n",
      " [ 0  0  0  0  0 23 27  0  0  0]\n",
      " [ 0  0  0  0  0 39  0 10  0  0]\n",
      " [ 0  0  0  0  0 45  0  0  1  0]\n",
      " [ 0  0  0  0  0 38  0  0  0 12]]\n"
     ]
    }
   ],
   "source": [
    "print(metrics.confusion_matrix(y_test,pred3))"
   ]
  },
  {
   "cell_type": "markdown",
   "metadata": {},
   "source": [
    "## (d)"
   ]
  },
  {
   "cell_type": "code",
   "execution_count": 50,
   "metadata": {},
   "outputs": [],
   "source": [
    "model4 = SVC(kernel='sigmoid')"
   ]
  },
  {
   "cell_type": "code",
   "execution_count": 51,
   "metadata": {},
   "outputs": [
    {
     "data": {
      "text/plain": [
       "SVC(C=1.0, cache_size=200, class_weight=None, coef0=0.0,\n",
       "  decision_function_shape='ovr', degree=3, gamma='auto', kernel='sigmoid',\n",
       "  max_iter=-1, probability=False, random_state=None, shrinking=True,\n",
       "  tol=0.001, verbose=False)"
      ]
     },
     "execution_count": 51,
     "metadata": {},
     "output_type": "execute_result"
    }
   ],
   "source": [
    "model4.fit(x_train,y_train)"
   ]
  },
  {
   "cell_type": "code",
   "execution_count": 52,
   "metadata": {},
   "outputs": [],
   "source": [
    "pred4 = model4.predict(x_test)"
   ]
  },
  {
   "cell_type": "code",
   "execution_count": 53,
   "metadata": {},
   "outputs": [
    {
     "data": {
      "text/plain": [
       "0.08"
      ]
     },
     "execution_count": 53,
     "metadata": {},
     "output_type": "execute_result"
    }
   ],
   "source": [
    "metrics.accuracy_score(y_test,pred4)"
   ]
  },
  {
   "cell_type": "code",
   "execution_count": 54,
   "metadata": {},
   "outputs": [
    {
     "name": "stdout",
     "output_type": "stream",
     "text": [
      "             precision    recall  f1-score   support\n",
      "\n",
      "          0       0.00      0.00      0.00        47\n",
      "          1       0.00      0.00      0.00        42\n",
      "          2       0.00      0.00      0.00        45\n",
      "          3       0.00      0.00      0.00        41\n",
      "          4       0.00      0.00      0.00        44\n",
      "          5       0.08      1.00      0.15        36\n",
      "          6       0.00      0.00      0.00        50\n",
      "          7       0.00      0.00      0.00        49\n",
      "          8       0.00      0.00      0.00        46\n",
      "          9       0.00      0.00      0.00        50\n",
      "\n",
      "avg / total       0.01      0.08      0.01       450\n",
      "\n"
     ]
    }
   ],
   "source": [
    "print(metrics.classification_report(y_test,pred4))"
   ]
  },
  {
   "cell_type": "code",
   "execution_count": 55,
   "metadata": {},
   "outputs": [
    {
     "name": "stdout",
     "output_type": "stream",
     "text": [
      "[[ 0  0  0  0  0 47  0  0  0  0]\n",
      " [ 0  0  0  0  0 42  0  0  0  0]\n",
      " [ 0  0  0  0  0 45  0  0  0  0]\n",
      " [ 0  0  0  0  0 41  0  0  0  0]\n",
      " [ 0  0  0  0  0 44  0  0  0  0]\n",
      " [ 0  0  0  0  0 36  0  0  0  0]\n",
      " [ 0  0  0  0  0 50  0  0  0  0]\n",
      " [ 0  0  0  0  0 49  0  0  0  0]\n",
      " [ 0  0  0  0  0 46  0  0  0  0]\n",
      " [ 0  0  0  0  0 50  0  0  0  0]]\n"
     ]
    }
   ],
   "source": [
    "print(metrics.confusion_matrix(y_test,pred4))"
   ]
  },
  {
   "cell_type": "code",
   "execution_count": null,
   "metadata": {},
   "outputs": [],
   "source": []
  }
 ],
 "metadata": {
  "kernelspec": {
   "display_name": "Python 2",
   "language": "python",
   "name": "python2"
  },
  "language_info": {
   "codemirror_mode": {
    "name": "ipython",
    "version": 2
   },
   "file_extension": ".py",
   "mimetype": "text/x-python",
   "name": "python",
   "nbconvert_exporter": "python",
   "pygments_lexer": "ipython2",
   "version": "2.7.15"
  }
 },
 "nbformat": 4,
 "nbformat_minor": 2
}
